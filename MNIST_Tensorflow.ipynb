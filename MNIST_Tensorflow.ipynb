{
  "nbformat": 4,
  "nbformat_minor": 0,
  "metadata": {
    "colab": {
      "provenance": []
    },
    "kernelspec": {
      "name": "python3",
      "display_name": "Python 3"
    },
    "language_info": {
      "name": "python"
    }
  },
  "cells": [
    {
      "cell_type": "markdown",
      "source": [
        "# Trying to train a network on MNIST dataset after watching the first threee videos on 3blue1brown neural network playlist."
      ],
      "metadata": {
        "id": "H9AAklffKEbS"
      }
    },
    {
      "cell_type": "markdown",
      "source": [
        "## Following the tutorial on tensorflow website"
      ],
      "metadata": {
        "id": "_ymqtGymKyc2"
      }
    },
    {
      "cell_type": "code",
      "execution_count": 46,
      "metadata": {
        "id": "p9pdxuuVJ9No"
      },
      "outputs": [],
      "source": [
        "import tensorflow as tf\n",
        "import tensorflow_datasets as tfds"
      ]
    },
    {
      "cell_type": "code",
      "source": [
        "'''Interestingg, tensorflow guys made it so easy by having the dataset already prepared so its easy to access.'''\n",
        "(ds_train, ds_test), ds_info = tfds.load('mnist',\n",
        "                                         split=['train', 'test'],\n",
        "                                         shuffle_files=True,\n",
        "                                         as_supervised=True,\n",
        "                                         with_info=True)"
      ],
      "metadata": {
        "id": "D5Odp0yyKgAE"
      },
      "execution_count": 47,
      "outputs": []
    },
    {
      "cell_type": "markdown",
      "source": [
        "### Training Pipeline"
      ],
      "metadata": {
        "id": "s3RxZ8xaUlgQ"
      }
    },
    {
      "cell_type": "markdown",
      "source": [
        "https://www.tensorflow.org/datasets/keras_example#build_a_training_pipeline"
      ],
      "metadata": {
        "id": "xLVDtIUjQxzX"
      }
    },
    {
      "cell_type": "code",
      "source": [
        "def normalize_img(img, label):\n",
        "  \"\"\"apparently the images are recieved as `uint8` convert it to -> `float32`.\"\"\"\n",
        "  return tf.cast(img, tf.float32) / 255., label\n",
        "\n",
        "ds_train = ds_train.map(normalize_img, num_parallel_calls=tf.data.AUTOTUNE)\n",
        "ds_train = ds_train.cache()\n",
        "# print(ds_train)\n",
        "ds_train = ds_train.shuffle(ds_info.splits['train'].num_examples)\n",
        "# ds_info.splits['train']\n",
        "# ds_train\n",
        "ds_train = ds_train.batch(128)\n",
        "ds_train = ds_train.prefetch(tf.data.AUTOTUNE)\n",
        "# tf.data.AUTOTUNE\n",
        "# ds_train"
      ],
      "metadata": {
        "id": "IIlBJ98-LRyt"
      },
      "execution_count": 48,
      "outputs": []
    },
    {
      "cell_type": "code",
      "source": [
        "ds_test = ds_test.map(normalize_img, num_parallel_calls=tf.data.AUTOTUNE)\n",
        "ds_test = ds_test.batch(128)\n",
        "ds_test = ds_test.cache()\n",
        "print(ds_test)\n",
        "ds_test = ds_test.prefetch(tf.data.AUTOTUNE)\n",
        "ds_test"
      ],
      "metadata": {
        "colab": {
          "base_uri": "https://localhost:8080/"
        },
        "id": "OVGwLzaiT9OP",
        "outputId": "a804229f-c414-4cda-c4cb-3c85da12236d"
      },
      "execution_count": 49,
      "outputs": [
        {
          "output_type": "stream",
          "name": "stdout",
          "text": [
            "<CacheDataset element_spec=(TensorSpec(shape=(None, 28, 28, 1), dtype=tf.float32, name=None), TensorSpec(shape=(None,), dtype=tf.int64, name=None))>\n"
          ]
        },
        {
          "output_type": "execute_result",
          "data": {
            "text/plain": [
              "<_PrefetchDataset element_spec=(TensorSpec(shape=(None, 28, 28, 1), dtype=tf.float32, name=None), TensorSpec(shape=(None,), dtype=tf.int64, name=None))>"
            ]
          },
          "metadata": {},
          "execution_count": 49
        }
      ]
    },
    {
      "cell_type": "markdown",
      "source": [
        "### Training the model"
      ],
      "metadata": {
        "id": "zI6nZM5taxXo"
      }
    },
    {
      "cell_type": "code",
      "source": [
        "model = tf.keras.models.Sequential([\n",
        "    tf.keras.Input((28,28,1)),\n",
        "    tf.keras.layers.Flatten(),\n",
        "    tf.keras.layers.Dense(16, activation='relu'),\n",
        "    tf.keras.layers.Dense(16, activation='relu'),\n",
        "    tf.keras.layers.Dense(10, activation='softmax')\n",
        "    ])\n",
        "\n",
        "model.compile(\n",
        "    optimizer = tf.keras.optimizers.Adam(0.001),\n",
        "    loss = tf.keras.losses.SparseCategoricalCrossentropy(),\n",
        "    metrics = [tf.keras.metrics.SparseCategoricalAccuracy()]\n",
        ")\n",
        "\n",
        "model.fit(\n",
        "    ds_train,\n",
        "    epochs=18,\n",
        "    validation_data=ds_test,\n",
        ")"
      ],
      "metadata": {
        "colab": {
          "base_uri": "https://localhost:8080/"
        },
        "id": "LO8JtT0-aePF",
        "outputId": "7f423ec0-34d3-42e6-ed9f-f6019494548b"
      },
      "execution_count": 75,
      "outputs": [
        {
          "output_type": "stream",
          "name": "stdout",
          "text": [
            "Epoch 1/18\n",
            "\u001b[1m469/469\u001b[0m \u001b[32m━━━━━━━━━━━━━━━━━━━━\u001b[0m\u001b[37m\u001b[0m \u001b[1m5s\u001b[0m 6ms/step - loss: 1.1701 - sparse_categorical_accuracy: 0.6116 - val_loss: 0.3334 - val_sparse_categorical_accuracy: 0.9028\n",
            "Epoch 2/18\n",
            "\u001b[1m469/469\u001b[0m \u001b[32m━━━━━━━━━━━━━━━━━━━━\u001b[0m\u001b[37m\u001b[0m \u001b[1m4s\u001b[0m 3ms/step - loss: 0.3225 - sparse_categorical_accuracy: 0.9068 - val_loss: 0.2590 - val_sparse_categorical_accuracy: 0.9255\n",
            "Epoch 3/18\n",
            "\u001b[1m469/469\u001b[0m \u001b[32m━━━━━━━━━━━━━━━━━━━━\u001b[0m\u001b[37m\u001b[0m \u001b[1m1s\u001b[0m 3ms/step - loss: 0.2544 - sparse_categorical_accuracy: 0.9269 - val_loss: 0.2313 - val_sparse_categorical_accuracy: 0.9331\n",
            "Epoch 4/18\n",
            "\u001b[1m469/469\u001b[0m \u001b[32m━━━━━━━━━━━━━━━━━━━━\u001b[0m\u001b[37m\u001b[0m \u001b[1m1s\u001b[0m 3ms/step - loss: 0.2247 - sparse_categorical_accuracy: 0.9335 - val_loss: 0.2153 - val_sparse_categorical_accuracy: 0.9372\n",
            "Epoch 5/18\n",
            "\u001b[1m469/469\u001b[0m \u001b[32m━━━━━━━━━━━━━━━━━━━━\u001b[0m\u001b[37m\u001b[0m \u001b[1m1s\u001b[0m 3ms/step - loss: 0.2063 - sparse_categorical_accuracy: 0.9394 - val_loss: 0.2111 - val_sparse_categorical_accuracy: 0.9358\n",
            "Epoch 6/18\n",
            "\u001b[1m469/469\u001b[0m \u001b[32m━━━━━━━━━━━━━━━━━━━━\u001b[0m\u001b[37m\u001b[0m \u001b[1m2s\u001b[0m 3ms/step - loss: 0.1903 - sparse_categorical_accuracy: 0.9450 - val_loss: 0.1994 - val_sparse_categorical_accuracy: 0.9413\n",
            "Epoch 7/18\n",
            "\u001b[1m469/469\u001b[0m \u001b[32m━━━━━━━━━━━━━━━━━━━━\u001b[0m\u001b[37m\u001b[0m \u001b[1m2s\u001b[0m 4ms/step - loss: 0.1818 - sparse_categorical_accuracy: 0.9469 - val_loss: 0.1918 - val_sparse_categorical_accuracy: 0.9438\n",
            "Epoch 8/18\n",
            "\u001b[1m469/469\u001b[0m \u001b[32m━━━━━━━━━━━━━━━━━━━━\u001b[0m\u001b[37m\u001b[0m \u001b[1m3s\u001b[0m 5ms/step - loss: 0.1729 - sparse_categorical_accuracy: 0.9483 - val_loss: 0.1904 - val_sparse_categorical_accuracy: 0.9431\n",
            "Epoch 9/18\n",
            "\u001b[1m469/469\u001b[0m \u001b[32m━━━━━━━━━━━━━━━━━━━━\u001b[0m\u001b[37m\u001b[0m \u001b[1m1s\u001b[0m 3ms/step - loss: 0.1653 - sparse_categorical_accuracy: 0.9514 - val_loss: 0.1846 - val_sparse_categorical_accuracy: 0.9441\n",
            "Epoch 10/18\n",
            "\u001b[1m469/469\u001b[0m \u001b[32m━━━━━━━━━━━━━━━━━━━━\u001b[0m\u001b[37m\u001b[0m \u001b[1m1s\u001b[0m 3ms/step - loss: 0.1552 - sparse_categorical_accuracy: 0.9526 - val_loss: 0.1828 - val_sparse_categorical_accuracy: 0.9458\n",
            "Epoch 11/18\n",
            "\u001b[1m469/469\u001b[0m \u001b[32m━━━━━━━━━━━━━━━━━━━━\u001b[0m\u001b[37m\u001b[0m \u001b[1m3s\u001b[0m 3ms/step - loss: 0.1513 - sparse_categorical_accuracy: 0.9543 - val_loss: 0.1789 - val_sparse_categorical_accuracy: 0.9471\n",
            "Epoch 12/18\n",
            "\u001b[1m469/469\u001b[0m \u001b[32m━━━━━━━━━━━━━━━━━━━━\u001b[0m\u001b[37m\u001b[0m \u001b[1m2s\u001b[0m 3ms/step - loss: 0.1477 - sparse_categorical_accuracy: 0.9558 - val_loss: 0.1849 - val_sparse_categorical_accuracy: 0.9433\n",
            "Epoch 13/18\n",
            "\u001b[1m469/469\u001b[0m \u001b[32m━━━━━━━━━━━━━━━━━━━━\u001b[0m\u001b[37m\u001b[0m \u001b[1m2s\u001b[0m 3ms/step - loss: 0.1371 - sparse_categorical_accuracy: 0.9578 - val_loss: 0.1772 - val_sparse_categorical_accuracy: 0.9481\n",
            "Epoch 14/18\n",
            "\u001b[1m469/469\u001b[0m \u001b[32m━━━━━━━━━━━━━━━━━━━━\u001b[0m\u001b[37m\u001b[0m \u001b[1m2s\u001b[0m 4ms/step - loss: 0.1385 - sparse_categorical_accuracy: 0.9589 - val_loss: 0.1806 - val_sparse_categorical_accuracy: 0.9458\n",
            "Epoch 15/18\n",
            "\u001b[1m469/469\u001b[0m \u001b[32m━━━━━━━━━━━━━━━━━━━━\u001b[0m\u001b[37m\u001b[0m \u001b[1m3s\u001b[0m 5ms/step - loss: 0.1351 - sparse_categorical_accuracy: 0.9590 - val_loss: 0.1753 - val_sparse_categorical_accuracy: 0.9480\n",
            "Epoch 16/18\n",
            "\u001b[1m469/469\u001b[0m \u001b[32m━━━━━━━━━━━━━━━━━━━━\u001b[0m\u001b[37m\u001b[0m \u001b[1m2s\u001b[0m 3ms/step - loss: 0.1292 - sparse_categorical_accuracy: 0.9619 - val_loss: 0.1751 - val_sparse_categorical_accuracy: 0.9486\n",
            "Epoch 17/18\n",
            "\u001b[1m469/469\u001b[0m \u001b[32m━━━━━━━━━━━━━━━━━━━━\u001b[0m\u001b[37m\u001b[0m \u001b[1m2s\u001b[0m 3ms/step - loss: 0.1250 - sparse_categorical_accuracy: 0.9621 - val_loss: 0.1734 - val_sparse_categorical_accuracy: 0.9495\n",
            "Epoch 18/18\n",
            "\u001b[1m469/469\u001b[0m \u001b[32m━━━━━━━━━━━━━━━━━━━━\u001b[0m\u001b[37m\u001b[0m \u001b[1m3s\u001b[0m 3ms/step - loss: 0.1240 - sparse_categorical_accuracy: 0.9627 - val_loss: 0.1776 - val_sparse_categorical_accuracy: 0.9475\n"
          ]
        },
        {
          "output_type": "execute_result",
          "data": {
            "text/plain": [
              "<keras.src.callbacks.history.History at 0x798361600a90>"
            ]
          },
          "metadata": {},
          "execution_count": 75
        }
      ]
    },
    {
      "cell_type": "code",
      "source": [
        "accuracy = model.evaluate(ds_test)\n",
        "accuracy"
      ],
      "metadata": {
        "colab": {
          "base_uri": "https://localhost:8080/"
        },
        "id": "XVe8u-r8jMO6",
        "outputId": "d67af84a-ee91-4468-cf2c-36fd1569a5a7"
      },
      "execution_count": 76,
      "outputs": [
        {
          "output_type": "stream",
          "name": "stdout",
          "text": [
            "\u001b[1m79/79\u001b[0m \u001b[32m━━━━━━━━━━━━━━━━━━━━\u001b[0m\u001b[37m\u001b[0m \u001b[1m0s\u001b[0m 2ms/step - loss: 0.1725 - sparse_categorical_accuracy: 0.9466\n"
          ]
        },
        {
          "output_type": "execute_result",
          "data": {
            "text/plain": [
              "[0.17759154736995697, 0.9474999904632568]"
            ]
          },
          "metadata": {},
          "execution_count": 76
        }
      ]
    },
    {
      "cell_type": "code",
      "source": [
        "model.save(\"mnist.keras\")"
      ],
      "metadata": {
        "id": "9dMw8wqbi22E"
      },
      "execution_count": 68,
      "outputs": []
    },
    {
      "cell_type": "code",
      "source": [],
      "metadata": {
        "id": "XqMp-IOYmp8E"
      },
      "execution_count": null,
      "outputs": []
    }
  ]
}
